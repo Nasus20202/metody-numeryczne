{
 "cells": [
  {
   "cell_type": "code",
   "execution_count": 3,
   "metadata": {},
   "outputs": [
    {
     "name": "stdout",
     "output_type": "stream",
     "text": [
      "index_number = 193328, a1 = 8, a2 = -1, a3 = -1\n"
     ]
    },
    {
     "data": {
      "text/latex": [
       "$\\displaystyle A = \\begin{bmatrix}\n",
       "8 & -1 & -1 & 0 & 0 & 0 & 0 & 0 & 0 & 0 & ... & 0 & 0 & 0 & 0 & 0 & 0 & 0 & 0 & 0 \\\\ \n",
       "-1 & 8 & -1 & -1 & 0 & 0 & 0 & 0 & 0 & 0 & ... & 0 & 0 & 0 & 0 & 0 & 0 & 0 & 0 & 0 \\\\ \n",
       "-1 & -1 & 8 & -1 & -1 & 0 & 0 & 0 & 0 & 0 & ... & 0 & 0 & 0 & 0 & 0 & 0 & 0 & 0 & 0 \\\\ \n",
       "0 & -1 & -1 & 8 & -1 & -1 & 0 & 0 & 0 & 0 & ... & 0 & 0 & 0 & 0 & 0 & 0 & 0 & 0 & 0 \\\\ \n",
       "0 & 0 & -1 & -1 & 8 & -1 & -1 & 0 & 0 & 0 & ... & 0 & 0 & 0 & 0 & 0 & 0 & 0 & 0 & 0 \\\\ \n",
       "0 & 0 & 0 & -1 & -1 & 8 & -1 & -1 & 0 & 0 & ... & 0 & 0 & 0 & 0 & 0 & 0 & 0 & 0 & 0 \\\\ \n",
       "0 & 0 & 0 & 0 & -1 & -1 & 8 & -1 & -1 & 0 & ... & 0 & 0 & 0 & 0 & 0 & 0 & 0 & 0 & 0 \\\\ \n",
       "0 & 0 & 0 & 0 & 0 & -1 & -1 & 8 & -1 & -1 & ... & 0 & 0 & 0 & 0 & 0 & 0 & 0 & 0 & 0 \\\\ \n",
       "0 & 0 & 0 & 0 & 0 & 0 & -1 & -1 & 8 & -1 & ... & 0 & 0 & 0 & 0 & 0 & 0 & 0 & 0 & 0 \\\\ \n",
       "0 & 0 & 0 & 0 & 0 & 0 & 0 & -1 & -1 & 8 & ... & 0 & 0 & 0 & 0 & 0 & 0 & 0 & 0 & 0 \\\\ \n",
       "... & ... & ... & ... & ... & ... & ... & ... & ... & ... & ... & ... & ... & ... & ... & ... & ... & ... & ... & ... \\\\ \n",
       "0 & 0 & 0 & 0 & 0 & 0 & 0 & 0 & 0 & 0 & ... & 8 & -1 & -1 & 0 & 0 & 0 & 0 & 0 & 0 \\\\ \n",
       "0 & 0 & 0 & 0 & 0 & 0 & 0 & 0 & 0 & 0 & ... & -1 & 8 & -1 & -1 & 0 & 0 & 0 & 0 & 0 \\\\ \n",
       "0 & 0 & 0 & 0 & 0 & 0 & 0 & 0 & 0 & 0 & ... & -1 & -1 & 8 & -1 & -1 & 0 & 0 & 0 & 0 \\\\ \n",
       "0 & 0 & 0 & 0 & 0 & 0 & 0 & 0 & 0 & 0 & ... & 0 & -1 & -1 & 8 & -1 & -1 & 0 & 0 & 0 \\\\ \n",
       "0 & 0 & 0 & 0 & 0 & 0 & 0 & 0 & 0 & 0 & ... & 0 & 0 & -1 & -1 & 8 & -1 & -1 & 0 & 0 \\\\ \n",
       "0 & 0 & 0 & 0 & 0 & 0 & 0 & 0 & 0 & 0 & ... & 0 & 0 & 0 & -1 & -1 & 8 & -1 & -1 & 0 \\\\ \n",
       "0 & 0 & 0 & 0 & 0 & 0 & 0 & 0 & 0 & 0 & ... & 0 & 0 & 0 & 0 & -1 & -1 & 8 & -1 & -1 \\\\ \n",
       "0 & 0 & 0 & 0 & 0 & 0 & 0 & 0 & 0 & 0 & ... & 0 & 0 & 0 & 0 & 0 & -1 & -1 & 8 & -1 \\\\ \n",
       "0 & 0 & 0 & 0 & 0 & 0 & 0 & 0 & 0 & 0 & ... & 0 & 0 & 0 & 0 & 0 & 0 & -1 & -1 & 8 \\\\ \n",
       "\\end{bmatrix}b = \\begin{bmatrix}\n",
       "-0.7568 \\\\ \n",
       "0.9894 \\\\ \n",
       "-0.5366 \\\\ \n",
       "-0.2879 \\\\ \n",
       "0.9129 \\\\ \n",
       "-0.9056 \\\\ \n",
       "0.2709 \\\\ \n",
       "0.5514 \\\\ \n",
       "-0.9918 \\\\ \n",
       "0.7451 \\\\ \n",
       "... \\\\ \n",
       "0.3303 \\\\ \n",
       "-0.9302 \\\\ \n",
       "0.8858 \\\\ \n",
       "-0.2278 \\\\ \n",
       "-0.588 \\\\ \n",
       "0.9965 \\\\ \n",
       "-0.7147 \\\\ \n",
       "-0.0622 \\\\ \n",
       "0.796 \\\\ \n",
       "\\end{bmatrix}$"
      ],
      "text/plain": [
       "<IPython.core.display.Math object>"
      ]
     },
     "metadata": {},
     "output_type": "display_data"
    }
   ],
   "source": [
    "from matrix import Matrix\n",
    "from helpers import *\n",
    "from solvers import *\n",
    "\n",
    "index_number = 193328\n",
    "N = 900 + index_number % 100\n",
    "e = index_number % 10**3 // 10**2\n",
    "f = index_number % 10**4 // 10**3\n",
    "\n",
    "a1, a2, a3 = 5+e, -1, -1\n",
    "A = generate_A_matrix(N, a1, a2, a3)\n",
    "b = generate_b_vector(N, f)\n",
    "print(f\"index_number = {index_number}, a1 = {a1}, a2 = {a2}, a3 = {a3}\")\n",
    "display_matrices([(A, 'A'), (b, 'b')])"
   ]
  },
  {
   "cell_type": "code",
   "execution_count": 4,
   "metadata": {},
   "outputs": [
    {
     "name": "stdout",
     "output_type": "stream",
     "text": [
      "Jacobi method: 24 iterations, error: 6.45982020781103e-10, time: 6.4885088 seconds\n",
      "Gauss-Seidel method: 17 iterations, error: 4.647756224628755e-10, time: 4.3892488 seconds\n",
      "LU decomposition method: error: 3.1216358388122854e-15, time: 46.5470297 seconds\n"
     ]
    },
    {
     "data": {
      "text/latex": [
       "$\\displaystyle jacobi_x = \\begin{bmatrix}\n",
       "-0.0891 \\\\ \n",
       "0.1016 \\\\ \n",
       "-0.0575 \\\\ \n",
       "-0.0304 \\\\ \n",
       "0.0948 \\\\ \n",
       "-0.0944 \\\\ \n",
       "0.0282 \\\\ \n",
       "0.0574 \\\\ \n",
       "-0.1033 \\\\ \n",
       "0.0776 \\\\ \n",
       "... \\\\ \n",
       "0.0344 \\\\ \n",
       "-0.0969 \\\\ \n",
       "0.0922 \\\\ \n",
       "-0.0239 \\\\ \n",
       "-0.0615 \\\\ \n",
       "0.1032 \\\\ \n",
       "-0.076 \\\\ \n",
       "-0.0093 \\\\ \n",
       "0.0746 \\\\ \n",
       "\\end{bmatrix}gaussseidel_x = \\begin{bmatrix}\n",
       "-0.0891 \\\\ \n",
       "0.1016 \\\\ \n",
       "-0.0575 \\\\ \n",
       "-0.0304 \\\\ \n",
       "0.0948 \\\\ \n",
       "-0.0944 \\\\ \n",
       "0.0282 \\\\ \n",
       "0.0574 \\\\ \n",
       "-0.1033 \\\\ \n",
       "0.0776 \\\\ \n",
       "... \\\\ \n",
       "0.0344 \\\\ \n",
       "-0.0969 \\\\ \n",
       "0.0922 \\\\ \n",
       "-0.0239 \\\\ \n",
       "-0.0615 \\\\ \n",
       "0.1032 \\\\ \n",
       "-0.076 \\\\ \n",
       "-0.0093 \\\\ \n",
       "0.0746 \\\\ \n",
       "\\end{bmatrix}lu_x = \\begin{bmatrix}\n",
       "-0.0891 \\\\ \n",
       "0.1016 \\\\ \n",
       "-0.0575 \\\\ \n",
       "-0.0304 \\\\ \n",
       "0.0948 \\\\ \n",
       "-0.0944 \\\\ \n",
       "0.0282 \\\\ \n",
       "0.0574 \\\\ \n",
       "-0.1033 \\\\ \n",
       "0.0776 \\\\ \n",
       "... \\\\ \n",
       "0.0344 \\\\ \n",
       "-0.0969 \\\\ \n",
       "0.0922 \\\\ \n",
       "-0.0239 \\\\ \n",
       "-0.0615 \\\\ \n",
       "0.1032 \\\\ \n",
       "-0.076 \\\\ \n",
       "-0.0093 \\\\ \n",
       "0.0746 \\\\ \n",
       "\\end{bmatrix}$"
      ],
      "text/plain": [
       "<IPython.core.display.Math object>"
      ]
     },
     "metadata": {},
     "output_type": "display_data"
    }
   ],
   "source": [
    "eps = 1e-9\n",
    "\n",
    "result_jacobi = solve_jacobi(A, b, precision=eps)\n",
    "print(f\"Jacobi method: {result_jacobi.iterations} iterations, error: {result_jacobi.error}, time: {result_jacobi.time} seconds\")\n",
    "\n",
    "result_gauss_seidel = solve_gauss_seidel(A, b, precision=eps)\n",
    "print(f\"Gauss-Seidel method: {result_gauss_seidel.iterations} iterations, error: {result_gauss_seidel.error}, time: {result_gauss_seidel.time} seconds\")\n",
    "\n",
    "result_lu_decomposition = solve_lu_decomposition(A, b)\n",
    "print(f\"LU decomposition method: error: {result_lu_decomposition.error}, time: {result_lu_decomposition.time} seconds\")\n",
    "\n",
    "display_matrices([(result_jacobi.x, 'jacobi_x'), (result_gauss_seidel.x, 'gaussseidel_x'), (result_lu_decomposition.x, 'lu_x')])"
   ]
  }
 ],
 "metadata": {
  "kernelspec": {
   "display_name": ".venv",
   "language": "python",
   "name": "python3"
  },
  "language_info": {
   "codemirror_mode": {
    "name": "ipython",
    "version": 3
   },
   "file_extension": ".py",
   "mimetype": "text/x-python",
   "name": "python",
   "nbconvert_exporter": "python",
   "pygments_lexer": "ipython3",
   "version": "3.12.0"
  }
 },
 "nbformat": 4,
 "nbformat_minor": 2
}
