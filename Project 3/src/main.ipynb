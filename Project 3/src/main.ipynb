{
 "cells": [
  {
   "cell_type": "code",
   "execution_count": 16,
   "metadata": {},
   "outputs": [],
   "source": [
    "from helpers import *\n",
    "from interpolation import *\n",
    "import matplotlib.pyplot as plt\n",
    "import os\n",
    "\n",
    "class TestCase:\n",
    "    def __init__(self, matrix: Matrix, filename: str):\n",
    "        self.matrix = matrix\n",
    "        self.filename = filename\n",
    "        self.n = matrix.shape[0]\n",
    "        self.x = []\n",
    "        self.y = []\n",
    "        for i in range(self.n):\n",
    "            self.x.append(matrix[i][0])\n",
    "            self.y.append(matrix[i][1])\n",
    "\n",
    "\n",
    "files = [('chelm.txt', ' '), ('in_mountain.data', ','), ('stale.txt', ','), ('ulm_lugano.txt', ' '), ('tczew_starogard.txt', ' ')]\n",
    "test_cases = [TestCase(load_data(file, separator), file) for file, separator in files]\n",
    "    "
   ]
  },
  {
   "cell_type": "code",
   "execution_count": 17,
   "metadata": {},
   "outputs": [],
   "source": [
    "# Generate base plots \n",
    "for test_case in test_cases:\n",
    "    os.makedirs(f'../plots/{test_case.filename}', exist_ok=True)\n",
    "\n",
    "    plt.figure(figsize=(15, 5))\n",
    "    plt.plot(test_case.x, test_case.y, '.', label='data points')\n",
    "    plt.xlabel('Dystans')\n",
    "    plt.ylabel('Wysokość')\n",
    "    plt.grid()\n",
    "    plt.title(f'Dane wejściowe - {test_case.filename} ({test_case.n} punktów)')\n",
    "    plt.savefig(f'../plots/{test_case.filename}/input_data.png', bbox_inches='tight')\n",
    "    plt.close()"
   ]
  },
  {
   "cell_type": "code",
   "execution_count": 18,
   "metadata": {},
   "outputs": [
    {
     "name": "stdout",
     "output_type": "stream",
     "text": [
      "Interpolating chelm.txt: 103 52 26 16 11 6 \n",
      "Interpolating in_mountain.data: 103 52 26 16 11 6 \n",
      "Interpolating stale.txt: 103 52 26 16 11 6 \n",
      "Interpolating ulm_lugano.txt: 103 52 26 16 11 6 \n",
      "Interpolating tczew_starogard.txt: 103 52 26 16 11 6 \n"
     ]
    }
   ],
   "source": [
    "# Interpolate and generate plots\n",
    "for test_case in test_cases:\n",
    "    tests = [(100, 512), (50, 512), (25, 512), (15, 512), (10, 512), (5, 512)]\n",
    "    print(f'Interpolating {test_case.filename}: ', end='')\n",
    "    for points, nodes in tests:\n",
    "        selected_x = test_case.x[::int(test_case.n/points)]\n",
    "        selected_y = test_case.y[::int(test_case.n/points)]\n",
    "        actual_points = len(selected_x)\n",
    "\n",
    "        x = linspace(test_case.x[0], test_case.x[-1], nodes)\n",
    "        y = lagrange_interpolation(x, selected_x, selected_y)\n",
    "\n",
    "        plt.figure(figsize=(15, 5))\n",
    "        plt.title(f'Interpolacja - {test_case.filename} ({test_case.n} punktów interpolacji, {actual_points} wybranych punktów z danych wejściowych)')\n",
    "        plt.semilogy(x, y, label='Interpolacja')\n",
    "        plt.semilogy(test_case.x, test_case.y, label='Dane wejściowe')\n",
    "        plt.semilogy(selected_x, selected_y, '.', label='Wybrane punkty')\n",
    "        plt.xlabel('Dystans')\n",
    "        plt.ylabel('Wysokość (log)')\n",
    "        plt.legend()\n",
    "        plt.grid()\n",
    "        plt.savefig(f'../plots/{test_case.filename}/lagrange_{actual_points}_points.png', bbox_inches='tight')\n",
    "        plt.close()\n",
    "\n",
    "        print(f'{actual_points} ', end='')\n",
    "    print()\n"
   ]
  }
 ],
 "metadata": {
  "kernelspec": {
   "display_name": ".venv",
   "language": "python",
   "name": "python3"
  },
  "language_info": {
   "codemirror_mode": {
    "name": "ipython",
    "version": 3
   },
   "file_extension": ".py",
   "mimetype": "text/x-python",
   "name": "python",
   "nbconvert_exporter": "python",
   "pygments_lexer": "ipython3",
   "version": "3.12.0"
  }
 },
 "nbformat": 4,
 "nbformat_minor": 2
}
